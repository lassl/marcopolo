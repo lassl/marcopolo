{
 "cells": [
  {
   "cell_type": "code",
   "execution_count": 1,
   "metadata": {},
   "outputs": [],
   "source": [
    "import argparse\n",
    "import os\n",
    "import random\n",
    "\n",
    "import numpy as np\n",
    "import pandas as pd\n",
    "import torch\n",
    "import torch.nn.functional as F\n",
    "import torch.optim\n",
    "\n",
    "from datasets import load_dataset\n",
    "from torch.utils.data import DataLoader, TensorDataset\n",
    "from tqdm import tqdm\n",
    "from transformers import AutoConfig, AutoModel, AutoTokenizer"
   ]
  },
  {
   "cell_type": "code",
   "execution_count": 2,
   "metadata": {},
   "outputs": [
    {
     "name": "stderr",
     "output_type": "stream",
     "text": [
      "Reusing dataset ms_marco_passage (/home/hadoop/.cache/huggingface/datasets/Tevatron___ms_marco_passage/default/0.0.1/1874f5d9ae5257b9dbc7d8f89c76f8d4c321be6b660bb5df208e5e64decfa978)\n"
     ]
    },
    {
     "data": {
      "application/vnd.jupyter.widget-view+json": {
       "model_id": "7c7f6444a46845989b48f4f38238bf1c",
       "version_major": 2,
       "version_minor": 0
      },
      "text/plain": [
       "  0%|          | 0/2 [00:00<?, ?it/s]"
      ]
     },
     "metadata": {},
     "output_type": "display_data"
    }
   ],
   "source": [
    "data= load_dataset('Tevatron/msmarco-passage')"
   ]
  },
  {
   "cell_type": "code",
   "execution_count": 7,
   "metadata": {},
   "outputs": [],
   "source": [
    "train= data['train']\n",
    "dev= data['dev']"
   ]
  },
  {
   "cell_type": "code",
   "execution_count": 10,
   "metadata": {},
   "outputs": [
    {
     "data": {
      "text/plain": [
       "{'query_id': '1000094',\n",
       " 'query': 'where is whitemarsh island',\n",
       " 'positive_passages': [{'docid': '5399011',\n",
       "   'title': 'Whitemarsh Island, Georgia',\n",
       "   'text': 'Whitemarsh Island, Georgia. Whitemarsh Island (pronounced WIT-marsh) is a census-designated place (CDP) in Chatham County, Georgia, United States. The population was 6,792 at the 2010 census. It is part of the Savannah Metropolitan Statistical Area. The communities of Whitemarsh Island are a relatively affluent suburb of Savannah.'}],\n",
       " 'negative_passages': [{'docid': '2670040',\n",
       "   'title': 'What military strategy was used in the pacific?',\n",
       "   'text': 'the strategy of island hopping was used by the United States in the Pacific theater of world war two. Thought of by Douglas MacArthur, island hopping was a strategy that used the technique of jumping from island to island on a chain to control the chain as a whole vs attacking all the islands at once.'},\n",
       "  {'docid': '4683145',\n",
       "   'title': 'Whakaari / White Island',\n",
       "   'text': 'For the island near Dunedin, see White Island, Otago. Whakaari/White Island is an active andesite stratovolcano, situated 48 km (30 mi) from the east coast of the North Island of New Zealand, in the Bay of Plenty.'},\n",
       "  {'docid': '4595226',\n",
       "   'title': 'Jekyll Island',\n",
       "   'text': \"Jekyll Island, at 5,700 acres, is the smallest of Georgia's barrier islands. The island is located in Glynn County, just southeast of the city of Brunswick, south of St. Simons Island, and north of Cumberland Island.n 1886 Finney, as a representative of the newly formed Jekyll Island Club, purchased the island from the DuBignons for $125,000. Ground was broken on the clubhouse building in mid-August 1886, and the club officially opened its doors in January 1888.\"},\n",
       "  {'docid': '4183380',\n",
       "   'title': 'Sibu Island',\n",
       "   'text': 'Sibu Island. A scuba diver at Sibu Island. Sibu Island (Malay: Pulau Sibu) is a small island in Mersing District, Johor, Malaysia. It consists of several islands, namely Sibu Besar Island, Sibu Tengah Island, Sibu Kukus Island and Sibu Hujung Island.'},\n",
       "  {'docid': '1188970',\n",
       "   'title': 'Camano Island',\n",
       "   'text': 'Camano Island. Not to be confused with Kamano Island. Camano Island /kÉ\\x99Ë\\x88meÉªnoÊ\\x8a/ is a large island in the Possession Sound portion of Puget Sound, located in Island County, Washington, between Whidbey Island and the mainland. The body of water separating Whidbey Island and Camano Island is called Saratoga Passage.'},\n",
       "  {'docid': '4838079',\n",
       "   'title': 'Harbour Island, Bahamas',\n",
       "   'text': 'Sunrise Oct. 6, 2008 Harbour Island, Bahamas, from the north part of the island. Afro Band Rehearsing at Sea Grapes Night Club on Harbour Island, Bahamas. Starfish in the harbour on Harbour Island, Bahamas. The pink beach of Harbour Island, Bahamas.'},\n",
       "  {'docid': '5421291',\n",
       "   'title': '-',\n",
       "   'text': \"Beautiful island - Nokonoshima Island. â\\x80\\x9cBeautiful islandâ\\x80\\x9d Review of Nokonoshima Island. Owner description: Located in Hakata Bay, Nokonoshima Island is a delightful place for visitors to camp, swim or admire the island's colorful flowers. This is an absolutely beautiful Japanese island.\"},\n",
       "  {'docid': '5994996',\n",
       "   'title': 'Getting Here',\n",
       "   'text': 'Remember, the Island of Anna Maria actually contains three individual cities: 1  Anna Maria, FL at the northern part of the island; 2  Holmes Beach, FL in the center part of the island; 3  And Bradenton Beach, FL at the lower part of the island.'},\n",
       "  {'docid': '8674362',\n",
       "   'title': 'List of airports in Grenada',\n",
       "   'text': \"This is a list of airports in Grenada. Grenada is an island country and sovereign state in the southeastern Caribbean Sea. It consists of the island of Grenada and smaller islands at the southern end of the Grenadines, including Carriacou, Petit Martinique, Ronde Island, Caille Island, Diamond Island, Large Island, Saline Island, and Frigate Island. The main island of Grenada is divided into six parishes. The capital is St. George's. Grenada is located northwest of Trinidad and Tobago, northeast of Venezuela, and southwest of Saint Vincent and the Grenadines. 1 Airports.\"},\n",
       "  {'docid': '496396',\n",
       "   'title': 'Harbor Island in Orange County CA',\n",
       "   'text': \"Harbor Island - Physical Feature (Island) in Orange County. Harbor Island is a physical feature (island) in Orange County. The primary coordinates for Harbor Island places it within the CA 92661 ZIP Code delivery area. In the Maps and Aerial Photos section below, you'll find links to: (1) Local area photos around Harbor Island, (2) A listing of the nearest hotels to Harbor Island and (3) Driving Directions to Harbor Island from almost anywhere. The location of Harbor Island is marked on an interactive map.\"},\n",
       "  {'docid': '4379553',\n",
       "   'title': 'Do the NYC subways go out to Staten Island?',\n",
       "   'text': 'Staten Island is the only borough that is not serve by the subway. however, there is bus service from the St. George Ferry Terminal to any point in Staten Island. Also, the Staten Island Railway serves the eastern shore of the island. To get to Staten Island from Midtown follow these simple steps.'},\n",
       "  {'docid': '2080254',\n",
       "   'title': 'Why did the US island hop?',\n",
       "   'text': 'Island hopping is moving around from island to island. For example, The United States military practiced island-hopping during WWII in the war in the Pacific.'},\n",
       "  {'docid': '3206035',\n",
       "   'title': 'What is plum island?',\n",
       "   'text': \"There are three kinds of answers: ones that are mostly right, ones that are mostly wrong, and those that once were right but now are wrong. Plum Island Newbury MA. Plum Island is a barrier island off the Atlantic coast of Massachusetts, at Newburyport, MA.It includes the Parker River National Wildlife Refuge, home to nearly 800 species of birds.Plum Island NY. The more famous Plum Island (formerly Plumb Island) is off Long Island, NY, and is the location of the Department of Homeland Security's animal disease research facility.t includes the Parker River National Wildlife Refuge, home to nearly 800 species of birds. Plum Island NY. The more famous Plum Island (formerly Plumb Island) is off Long Island, NY, and is the location of the Department of Homeland Security's animal disease research facility.\"},\n",
       "  {'docid': '1247636',\n",
       "   'title': 'Lakes of New Hampshire',\n",
       "   'text': 'Massabesic Lake is located in the city of Manchester NH and the town of Auburn and covers 2,561 acres with in Manchester. The lake is home to several islands: Browns Island, Fletcher Island, Birch Island, Grape Island and several islets.'},\n",
       "  {'docid': '3935749',\n",
       "   'title': 'Get the Facts',\n",
       "   'text': 'Is the Statue of Liberty on Ellis Island? No. The park is comprised of two separate islands, Liberty Island and Ellis Island. The Statue of Liberty is on Liberty Island and Ellis Island, the former federal immigration station, is currently a national museum of immigration.'},\n",
       "  {'docid': '3132',\n",
       "   'title': 'The \"Longest\" Islands in the United States',\n",
       "   'text': 'Whidbey Island in Washington state is always calling itself the longest island in the United States, or the longest island in the continental United States, or, sometimes, the longest saltwater-surrounded island in the continental United States.'},\n",
       "  {'docid': '3623924',\n",
       "   'title': 'Explore Mackinac Island',\n",
       "   'text': \"Explore Mackinac Island. Mackinac Island truly is a world unto itself. With its Victorian-style setting, take in all the heritage and scenery while enjoying some exciting activities. Come out and enjoy the festivities! Mackinac Island has events running all season long. Renting a bike is a fun way to get around and a great way to see the island. Exploring the island's history is both entertaining and educational. Take in one of many live demonstrations at Fort Mackinac, or visit Mackinac Island State Park. Taking a tour is a great way to see all the island has to offer.\"},\n",
       "  {'docid': '5012984',\n",
       "   'title': 'Saint Paul Island (Alaska)',\n",
       "   'text': 'Saint Paul Island is the largest of the Pribilof Islands, a group of five Alaskan volcanic islands located in the Bering Sea between the United States and Russia. The city of St. Paul is the only residential area on the island. The two nearest islands to Saint Paul Island are Otter Island to the southwest, and Walrus Island to the east.'},\n",
       "  {'docid': '6869778',\n",
       "   'title': '-',\n",
       "   'text': 'On the small, treasure-island of Nevis in the Caribbean is a very special, luxurious villa; Island Time. Designed in traditional West Indian island style, Island Time has deluxe accommodations in 3,500 square feet of beautifully appointed rooms for up to 8 persons.'},\n",
       "  {'docid': '3060450',\n",
       "   'title': 'List of island countries',\n",
       "   'text': 'An island country does not have to be located on a single island, and can be spread over an archipelago, as is the case with the Federated States of Micronesia and the Philippines (which consists of thousands of islands) . (For a broader definition, including countries that share an island, see Island country .).sually island countries do not share any land borders with any other nation, but there are exceptions such as the United Kingdom which shares the island of Ireland with the Republic of Ireland (through Northern Ireland) and thus is not borderless.'},\n",
       "  {'docid': '8539299',\n",
       "   'title': '-',\n",
       "   'text': 'You may like to book accommodation in Kiawah Island, a neighborhood of Charleston that is 8 miles from the center of Johns Island. Kiawah Island hotels include the Kiawah Island by Wyndham Vacation Rentals and Seabrook Island by Wyndham Vacation Rentals.'},\n",
       "  {'docid': '1661733',\n",
       "   'title': 'Disney Teases âFrozen Ever Afterâ Ride, Ignores Its Abandoned âDiscovery Islandâ Attraction',\n",
       "   'text': 'Disney continues to ignore its abandoned theme park, â\\x80\\x9cDiscovery Island.â\\x80\\x9d When the island opened in 1974, it was known as â\\x80\\x9cTreasure Island.â\\x80\\x9d The island then had a name change in the late â\\x80\\x9990s. It featured wildlife such as flamingos, lemurs, swans, and tortoises. The island quickly closed in 1999, without any reason or explanation.'},\n",
       "  {'docid': '8769863',\n",
       "   'title': '-',\n",
       "   'text': 'Search for hotels in Kefalonia Island on Expedia.com. You can easily find your hotels in Kefalonia Island using one of the methods below: 1  View our selection of featured hotels in Kefalonia Island. 2  Use the map to find hotels in the Kefalonia Island neighborhood you prefer.'},\n",
       "  {'docid': '8583610',\n",
       "   'title': 'THE SANDBOX ON ANNA MARIA ISLAND',\n",
       "   'text': 'Our Beautiful Little Island Anna Maria Island is a barrier island off the coast of Manatee County, FL on the beautiful Gulf of Mexico. Just 7 miles long and 2 miles wide, the island is comprised of three towns - Anna Maria, Holmes Beach, and Bradenton Beach. Once a well-kept secret, Anna Maria Island is now one of the top beach vacation destinations in the country!'},\n",
       "  {'docid': '7027237',\n",
       "   'title': '-',\n",
       "   'text': 'The downstream tip of Government Island (downstream of the Interstate 205 Bridge) is Lemon Island, and two smaller islands are on the north side of Lemon Island. The larger (0.8-miles in length) is referred to as Tri-Club Island, and the smaller is unnamed.olumbia River and Government Island complex, looking upstream, as seen from Rocky Butte. View of the Columbia River, with Government Island (left on river) and McGuire Island (center of river). McGuire Island is part of the Government Island complex. Image taken June 15, 2005.'},\n",
       "  {'docid': '7225569',\n",
       "   'title': '-',\n",
       "   'text': 'However, it has only 13% of HawaiÊ»iâ\\x80\\x99s people. The island of HawaiÊ»i is the third largest island in Polynesia, behind the two main islands of New Zealand. The island is often referred to as the Island of HawaiÊ»i, the Big Island, or HawaiÊ»i Island to distinguish it from the state. Administratively, the whole island is encompassed by HawaiÊ»i County. As of the 2010 Census the population was 185,079. The county seat and largest city is Hilo.'},\n",
       "  {'docid': '1606622',\n",
       "   'title': 'Best Florida Resorts',\n",
       "   'text': 'Little Palm Island is a hidden treasure on a tiny private island accessible only by private boat or airplane. From the minute guests step foot on the island, it is clear that this resort is in a class entirely its own. Discreet accommodations can be found in 28 bungalows scattered across the island.'},\n",
       "  {'docid': '3022308',\n",
       "   'title': '-',\n",
       "   'text': '1. Rhode Island. The state of Rhode Island and Providence Plantations is a state of the United States. The state has an area of the smallest among the states that exist across the United States in addition, Rhode Island, directly adjacent to the Connecticut and Massachusetts.. Rhode Island. The state of Rhode Island and Providence Plantations is a state of the United States. The state has an area of the smallest among the states that exist across the United States in addition, Rhode Island, directly adjacent to the Connecticut and Massachusetts.'},\n",
       "  {'docid': '1888870',\n",
       "   'title': 'Timeshares Resales at Neptune House, Block Island',\n",
       "   'text': 'Buy a timeshare at Neptune House in Block Island, Rhode Island. Below are timeshares for sale at Neptune House. Do you want to purchase a Block Island week at a huge discount?'},\n",
       "  {'docid': '4369473',\n",
       "   'title': 'Description of a Dodo',\n",
       "   'text': 'Range and Habitat. The dodo bird only ever lived on Mauritius, a small island in the Indian Ocean about 500 miles from the island of Madagascar. Prior to 1598, no humans lived on the island.These flightless birds lived in forests throughout the island.he dodo bird only ever lived on Mauritius, a small island in the Indian Ocean about 500 miles from the island of Madagascar. Prior to 1598, no humans lived on the island. These flightless birds lived in forests throughout the island.'}]}"
      ]
     },
     "execution_count": 10,
     "metadata": {},
     "output_type": "execute_result"
    }
   ],
   "source": [
    "train[0]"
   ]
  },
  {
   "cell_type": "code",
   "execution_count": 9,
   "metadata": {},
   "outputs": [
    {
     "name": "stderr",
     "output_type": "stream",
     "text": [
      "100%|██████████| 400782/400782 [02:46<00:00, 2405.52it/s]"
     ]
    },
    {
     "name": "stdout",
     "output_type": "stream",
     "text": [
      "21618\n"
     ]
    },
    {
     "name": "stderr",
     "output_type": "stream",
     "text": [
      "\n"
     ]
    }
   ],
   "source": [
    "# positive sample이 여러개인 경우도 있음! -> 일단 이건 skip하자 !\n",
    "\n",
    "cnt= 0\n",
    "for i in tqdm(range(len(train))):\n",
    "    if len(train[i]['positive_passages']) > 1:\n",
    "        cnt+=1\n",
    "print(cnt)"
   ]
  },
  {
   "cell_type": "code",
   "execution_count": 18,
   "metadata": {},
   "outputs": [
    {
     "name": "stderr",
     "output_type": "stream",
     "text": [
      " 53%|█████▎    | 211072/400782 [08:26<07:51, 402.06it/s]"
     ]
    }
   ],
   "source": [
    "# data를 받아서 그냥.. 쪼갠다..!\n",
    "def make_in_batch_dataset(data):\n",
    "    in_batch_dict= {'query_id': [], 'query': [], 'pos_passage_id': [], 'pos_passage': []}\n",
    "\n",
    "    for idx in tqdm(range(len(data))):\n",
    "        if len(data[idx]['positive_passages']) > 1:\n",
    "            # TODO\n",
    "            pass\n",
    "        elif len(data[idx]['positive_passages'])== 1: # 1개일 경우\n",
    "            in_batch_dict['query_id'].append(data[idx]['query_id'])\n",
    "            in_batch_dict['query'].append(data[idx]['query'])\n",
    "            in_batch_dict['pos_passage_id'].append(data[idx]['positive_passages'][0]['docid'])\n",
    "            in_batch_dict['pos_passage'].append(data[idx]['positive_passages'][0]['text'])\n",
    "\n",
    "    return pd.DataFrame(in_batch_dict)\n",
    "    \n",
    "        \n",
    "\n",
    "in_batch_df= make_in_batch_dataset(train)\n",
    "\n",
    "            \n",
    "\n",
    "    "
   ]
  },
  {
   "cell_type": "code",
   "execution_count": null,
   "metadata": {},
   "outputs": [],
   "source": [
    "\"\"\"\n",
    "    TODO\n",
    "    1. 코드를 모듈화 시키기\n",
    "    2. \n",
    "    \n",
    "\"\"\"\n"
   ]
  }
 ],
 "metadata": {
  "kernelspec": {
   "display_name": "Python 3.7.10 ('torch')",
   "language": "python",
   "name": "python3"
  },
  "language_info": {
   "codemirror_mode": {
    "name": "ipython",
    "version": 3
   },
   "file_extension": ".py",
   "mimetype": "text/x-python",
   "name": "python",
   "nbconvert_exporter": "python",
   "pygments_lexer": "ipython3",
   "version": "3.7.10"
  },
  "orig_nbformat": 4,
  "vscode": {
   "interpreter": {
    "hash": "2e75d190a05bf5b0b3a3b9c09da66a3c0aa50eca6da3fa020738b27f11901d61"
   }
  }
 },
 "nbformat": 4,
 "nbformat_minor": 2
}
